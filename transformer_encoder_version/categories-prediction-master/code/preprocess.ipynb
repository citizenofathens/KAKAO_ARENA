{
 "cells": [
  {
   "cell_type": "markdown",
   "metadata": {},
   "source": [
    "# 필요 변수 설정"
   ]
  },
  {
   "cell_type": "code",
   "execution_count": 1,
   "metadata": {},
   "outputs": [],
   "source": [
    "import os\n",
    "import json\n",
    "import h5py\n",
    "import numpy as np\n",
    "import pandas as pd\n",
    "from tqdm.notebook import tqdm\n",
    "\n",
    "RAW_DATA_DIR = \"../input/raw_data\" # 카카오에서 다운로드 받은 데이터의 디렉터리\n",
    "PROCESSED_DATA_DIR = '../input/processed' # 전처리된 데이터가 저장될 디렉터리\n",
    "VOCAB_DIR = os.path.join(PROCESSED_DATA_DIR, 'vocab') # 전처리에 사용될 사전 파일이 저장될 디렉터리\n",
    "\n",
    "# 학습에 사용될 파일 리스트\n",
    "train_file_list = [\n",
    "    \"train.chunk.01\",\n",
    "    \"train.chunk.02\",\n",
    "    \"train.chunk.03\",\n",
    "    \"train.chunk.04\",\n",
    "    \"train.chunk.05\",\n",
    "    \"train.chunk.06\",\n",
    "    \"train.chunk.07\",\n",
    "    \"train.chunk.08\",\n",
    "    \"train.chunk.09\"\n",
    "]\n",
    "\n",
    "# 개발에 사용될 파일 리스트. 공개 리더보드 점수를 내는데 사용된다.\n",
    "dev_file_list = [\n",
    "    \"dev.chunk.01\"    \n",
    "]\n",
    "\n",
    "# 테스트에 사용될 파일 리스트. 파이널 리더보드 점수를 내는데 사용된다.\n",
    "test_file_list = [\n",
    "    \"test.chunk.01\",\n",
    "    \"test.chunk.02\", \n",
    "]\n",
    "\n",
    "# 파일명과 실제 파일이 위치한 디렉토리를 결합한다.\n",
    "train_path_list = [os.path.join(RAW_DATA_DIR, fn) for fn in train_file_list]\n",
    "dev_path_list = [os.path.join(RAW_DATA_DIR, fn) for fn in dev_file_list]\n",
    "test_path_list = [os.path.join(RAW_DATA_DIR, fn) for fn in test_file_list]\n",
    "\n",
    "# PROCESSED_DATA_DIR과 VOCAB_DIR를 생성한다.\n",
    "os.makedirs(PROCESSED_DATA_DIR, exist_ok=True)\n",
    "os.makedirs(VOCAB_DIR, exist_ok=True)"
   ]
  },
  {
   "cell_type": "markdown",
   "metadata": {},
   "source": [
    "# 대회 데이터를 pandas.DataFrame으로 만들기"
   ]
  },
  {
   "cell_type": "code",
   "execution_count": 2,
   "metadata": {},
   "outputs": [],
   "source": [
    "# path_list의 파일에서 col 변수에 해당하는 컬럼 값들을 가져온다.\n",
    "def get_column_data(path_list, div, col):\n",
    "    col_data = []\n",
    "    for path in path_list:\n",
    "        h = h5py.File(path, 'r')\n",
    "        col_data.append(h[div][col][:])\n",
    "        h.close()\n",
    "    return np.concatenate(col_data)\n",
    "\n",
    "# path_list의 파일에서 학습에 필요한 컬럼들을 DataFrame 포맷으로 반환한다.\n",
    "def get_dataframe(path_list, div):\n",
    "    pids = get_column_data(path_list, div, col='pid')\n",
    "    products = get_column_data(path_list, div, col='product')\n",
    "    brands = get_column_data(path_list, div, col='brand')\n",
    "    makers = get_column_data(path_list, div, col='maker')\n",
    "    # 16GB를 가진 PC에서 실행 가능하도록 메모리를 많이 사용하는 칼럼은 주석처리\n",
    "    #models = get_column_data(path_list, div, col='model') \n",
    "    prices = get_column_data(path_list, div, col='price')\n",
    "    updttms = get_column_data(path_list, div, col='updttm')\n",
    "    bcates = get_column_data(path_list, div, col='bcateid')\n",
    "    mcates = get_column_data(path_list, div, col='mcateid')\n",
    "    scates = get_column_data(path_list, div, col='scateid')\n",
    "    dcates = get_column_data(path_list, div, col='dcateid')\n",
    "    \n",
    "    df = pd.DataFrame({'pid': pids, 'product':products, 'brand':brands, 'maker':makers, \n",
    "                                      #'model':models, \n",
    "                                      'price':prices, 'updttm':updttms, \n",
    "                                      'bcateid':bcates, 'mcateid':mcates, 'scateid':scates, 'dcateid':dcates} )\n",
    "    \n",
    "    # 바이트 열로 인코딩 상품제목과 상품ID를 유니코드 변환한다.\n",
    "    df['pid'] = df['pid'].map(lambda x: x.decode('utf-8'))\n",
    "    df['product'] = df['product'].map(lambda x: x.decode('utf-8'))\n",
    "    df['brand'] = df['brand'].map(lambda x: x.decode('utf-8'))\n",
    "    df['maker'] = df['maker'].map(lambda x: x.decode('utf-8'))\n",
    "    #df['model'] = df['model'].map(lambda x: x.decode('utf-8')) # 메모리 사용량을 줄이기 위해 주석처리\n",
    "    df['updttm'] = df['updttm'].map(lambda x: x.decode('utf-8'))     \n",
    "    \n",
    "    return df"
   ]
  },
  {
   "cell_type": "code",
   "execution_count": 3,
   "metadata": {
    "scrolled": true
   },
   "outputs": [],
   "source": [
    "train_df = get_dataframe(train_path_list, 'train')\n",
    "dev_df = get_dataframe(dev_path_list, 'dev')\n",
    "test_df = get_dataframe(test_path_list, 'test')"
   ]
  },
  {
   "cell_type": "code",
   "execution_count": 4,
   "metadata": {},
   "outputs": [
    {
     "data": {
      "text/html": [
       "<div>\n",
       "<style scoped>\n",
       "    .dataframe tbody tr th:only-of-type {\n",
       "        vertical-align: middle;\n",
       "    }\n",
       "\n",
       "    .dataframe tbody tr th {\n",
       "        vertical-align: top;\n",
       "    }\n",
       "\n",
       "    .dataframe thead th {\n",
       "        text-align: right;\n",
       "    }\n",
       "</style>\n",
       "<table border=\"1\" class=\"dataframe\">\n",
       "  <thead>\n",
       "    <tr style=\"text-align: right;\">\n",
       "      <th></th>\n",
       "      <th>product</th>\n",
       "    </tr>\n",
       "  </thead>\n",
       "  <tbody>\n",
       "    <tr>\n",
       "      <th>0</th>\n",
       "      <td>직소퍼즐 - 1000조각 바다거북의 여행 (PL1275)</td>\n",
       "    </tr>\n",
       "    <tr>\n",
       "      <th>1</th>\n",
       "      <td>[모리케이스]아이폰6S/6S+ tree farm101 - 다이어리케이스[바보사랑][무료배송]</td>\n",
       "    </tr>\n",
       "    <tr>\n",
       "      <th>2</th>\n",
       "      <td>크리비아 기모 3부 속바지 GLG4314P</td>\n",
       "    </tr>\n",
       "  </tbody>\n",
       "</table>\n",
       "</div>"
      ],
      "text/plain": [
       "                                               product\n",
       "0                      직소퍼즐 - 1000조각 바다거북의 여행 (PL1275)\n",
       "1  [모리케이스]아이폰6S/6S+ tree farm101 - 다이어리케이스[바보사랑][무료배송]\n",
       "2                              크리비아 기모 3부 속바지 GLG4314P"
      ]
     },
     "execution_count": 4,
     "metadata": {},
     "output_type": "execute_result"
    }
   ],
   "source": [
    "pd.set_option('display.max_columns', 100)\n",
    "pd.set_option('display.max_colwidth', 500)\n",
    "train_df[['product']].head(3)"
   ]
  },
  {
   "cell_type": "markdown",
   "metadata": {},
   "source": [
    "# 학습에 불필요한 컬럼 제거"
   ]
  },
  {
   "cell_type": "code",
   "execution_count": 5,
   "metadata": {},
   "outputs": [],
   "source": [
    "# Peter Norvig Quote: “More data beats clever algorithms, but better data beats more data.”"
   ]
  },
  {
   "cell_type": "code",
   "execution_count": 6,
   "metadata": {},
   "outputs": [],
   "source": [
    "import json\n",
    "# 카테고리 이름과 ID의 매핑 정보를 불러온다.\n",
    "cate_json = json.load(open(os.path.join(RAW_DATA_DIR, 'cate1.json')))\n",
    "\n",
    "# (이름, ID) 순서를 (ID, 이름)으로 바꾼 후 dictionary로 만든다.\n",
    "bid2nm = dict([(cid, name) for name, cid in cate_json['b'].items()])\n",
    "mid2nm = dict([(cid, name) for name, cid in cate_json['m'].items()])\n",
    "sid2nm = dict([(cid, name) for name, cid in cate_json['s'].items()])\n",
    "did2nm = dict([(cid, name) for name, cid in cate_json['d'].items()])\n",
    "\n",
    "# dictionary를 활용해 카테고리 ID에 해당하는 카테고리 이름 컬럼을 추가한다.\n",
    "train_df['bcatenm'] = train_df['bcateid'].map(bid2nm)\n",
    "train_df['mcatenm'] = train_df['mcateid'].map(mid2nm)\n",
    "train_df['scatenm'] = train_df['scateid'].map(sid2nm)\n",
    "train_df['dcatenm'] = train_df['dcateid'].map(did2nm)"
   ]
  },
  {
   "cell_type": "code",
   "execution_count": 7,
   "metadata": {
    "scrolled": true
   },
   "outputs": [
    {
     "data": {
      "text/html": [
       "<div>\n",
       "<style scoped>\n",
       "    .dataframe tbody tr th:only-of-type {\n",
       "        vertical-align: middle;\n",
       "    }\n",
       "\n",
       "    .dataframe tbody tr th {\n",
       "        vertical-align: top;\n",
       "    }\n",
       "\n",
       "    .dataframe thead th {\n",
       "        text-align: right;\n",
       "    }\n",
       "</style>\n",
       "<table border=\"1\" class=\"dataframe\">\n",
       "  <thead>\n",
       "    <tr style=\"text-align: right;\">\n",
       "      <th></th>\n",
       "      <th>pid</th>\n",
       "      <th>product</th>\n",
       "      <th>brand</th>\n",
       "      <th>maker</th>\n",
       "      <th>price</th>\n",
       "      <th>bcatenm</th>\n",
       "      <th>mcatenm</th>\n",
       "      <th>scatenm</th>\n",
       "      <th>dcatenm</th>\n",
       "    </tr>\n",
       "  </thead>\n",
       "  <tbody>\n",
       "    <tr>\n",
       "      <th>0</th>\n",
       "      <td>O4486751463</td>\n",
       "      <td>직소퍼즐 - 1000조각 바다거북의 여행 (PL1275)</td>\n",
       "      <td>퍼즐라이프</td>\n",
       "      <td>상품상세설명 참조</td>\n",
       "      <td>16520</td>\n",
       "      <td>악기/취미/만들기</td>\n",
       "      <td>보드게임/퍼즐</td>\n",
       "      <td>직소/퍼즐</td>\n",
       "      <td></td>\n",
       "    </tr>\n",
       "    <tr>\n",
       "      <th>1</th>\n",
       "      <td>P3307178849</td>\n",
       "      <td>[모리케이스]아이폰6S/6S+ tree farm101 - 다이어리케이스[바보사랑][무료배송]</td>\n",
       "      <td>바보사랑</td>\n",
       "      <td>MORY|해당없음</td>\n",
       "      <td>20370</td>\n",
       "      <td>휴대폰/액세서리</td>\n",
       "      <td>휴대폰액세서리</td>\n",
       "      <td>아이폰액세서리</td>\n",
       "      <td></td>\n",
       "    </tr>\n",
       "    <tr>\n",
       "      <th>2</th>\n",
       "      <td>R4424255515</td>\n",
       "      <td>크리비아 기모 3부 속바지 GLG4314P</td>\n",
       "      <td>크리비아</td>\n",
       "      <td></td>\n",
       "      <td>-1</td>\n",
       "      <td>언더웨어</td>\n",
       "      <td>보정언더웨어</td>\n",
       "      <td>속바지/속치마</td>\n",
       "      <td></td>\n",
       "    </tr>\n",
       "    <tr>\n",
       "      <th>3</th>\n",
       "      <td>F3334315393</td>\n",
       "      <td>[하프클럽/잭앤질]남성 솔리드 절개라인 포인트 포켓 팬츠 31133PT002_NA</td>\n",
       "      <td>잭앤질</td>\n",
       "      <td>㈜크리스패션</td>\n",
       "      <td>16280</td>\n",
       "      <td>남성의류</td>\n",
       "      <td>바지</td>\n",
       "      <td>일자면바지</td>\n",
       "      <td></td>\n",
       "    </tr>\n",
       "    <tr>\n",
       "      <th>4</th>\n",
       "      <td>N731678492</td>\n",
       "      <td>코드프리혈당시험지50매/코드프리시험지/최장유효기간</td>\n",
       "      <td></td>\n",
       "      <td>기타</td>\n",
       "      <td>-1</td>\n",
       "      <td>건강관리/실버용품</td>\n",
       "      <td>건강측정용품</td>\n",
       "      <td>혈당지</td>\n",
       "      <td></td>\n",
       "    </tr>\n",
       "  </tbody>\n",
       "</table>\n",
       "</div>"
      ],
      "text/plain": [
       "           pid                                              product  brand  \\\n",
       "0  O4486751463                      직소퍼즐 - 1000조각 바다거북의 여행 (PL1275)  퍼즐라이프   \n",
       "1  P3307178849  [모리케이스]아이폰6S/6S+ tree farm101 - 다이어리케이스[바보사랑][무료배송]   바보사랑   \n",
       "2  R4424255515                              크리비아 기모 3부 속바지 GLG4314P   크리비아   \n",
       "3  F3334315393        [하프클럽/잭앤질]남성 솔리드 절개라인 포인트 포켓 팬츠 31133PT002_NA    잭앤질   \n",
       "4   N731678492                          코드프리혈당시험지50매/코드프리시험지/최장유효기간          \n",
       "\n",
       "       maker  price    bcatenm  mcatenm  scatenm dcatenm  \n",
       "0  상품상세설명 참조  16520  악기/취미/만들기  보드게임/퍼즐    직소/퍼즐          \n",
       "1  MORY|해당없음  20370   휴대폰/액세서리  휴대폰액세서리  아이폰액세서리          \n",
       "2                -1       언더웨어   보정언더웨어  속바지/속치마          \n",
       "3     ㈜크리스패션  16280       남성의류       바지    일자면바지          \n",
       "4         기타     -1  건강관리/실버용품   건강측정용품      혈당지          "
      ]
     },
     "execution_count": 7,
     "metadata": {},
     "output_type": "execute_result"
    }
   ],
   "source": [
    "#train_df[['pid', 'product', 'brand', 'maker', 'model', 'price', 'bcatenm', 'mcatenm', 'scatenm', 'dcatenm']].head(5)\n",
    "train_df[['pid', 'product', 'brand', 'maker','price', 'bcatenm', 'mcatenm', 'scatenm', 'dcatenm']].head(5)"
   ]
  },
  {
   "cell_type": "markdown",
   "metadata": {},
   "source": [
    "## 데이터 분석"
   ]
  },
  {
   "cell_type": "markdown",
   "metadata": {},
   "source": [
    "### brand 컬럼 분석"
   ]
  },
  {
   "cell_type": "code",
   "execution_count": 8,
   "metadata": {},
   "outputs": [],
   "source": [
    "def get_vc_df(df, col):    \n",
    "    vc_df = df[col].value_counts().reset_index()\n",
    "    vc_df.columns = [col, 'count']\n",
    "    vc_df['percentage'] = (vc_df['count'] / vc_df['count'].sum())*100    \n",
    "    return vc_df"
   ]
  },
  {
   "cell_type": "code",
   "execution_count": 9,
   "metadata": {},
   "outputs": [
    {
     "data": {
      "text/html": [
       "<div>\n",
       "<style scoped>\n",
       "    .dataframe tbody tr th:only-of-type {\n",
       "        vertical-align: middle;\n",
       "    }\n",
       "\n",
       "    .dataframe tbody tr th {\n",
       "        vertical-align: top;\n",
       "    }\n",
       "\n",
       "    .dataframe thead th {\n",
       "        text-align: right;\n",
       "    }\n",
       "</style>\n",
       "<table border=\"1\" class=\"dataframe\">\n",
       "  <thead>\n",
       "    <tr style=\"text-align: right;\">\n",
       "      <th></th>\n",
       "      <th>brand</th>\n",
       "      <th>count</th>\n",
       "      <th>percentage</th>\n",
       "    </tr>\n",
       "  </thead>\n",
       "  <tbody>\n",
       "    <tr>\n",
       "      <th>0</th>\n",
       "      <td></td>\n",
       "      <td>3930113</td>\n",
       "      <td>48.312243</td>\n",
       "    </tr>\n",
       "    <tr>\n",
       "      <th>1</th>\n",
       "      <td>상품상세설명 참조</td>\n",
       "      <td>153156</td>\n",
       "      <td>1.882722</td>\n",
       "    </tr>\n",
       "    <tr>\n",
       "      <th>2</th>\n",
       "      <td>바보사랑</td>\n",
       "      <td>66645</td>\n",
       "      <td>0.819256</td>\n",
       "    </tr>\n",
       "    <tr>\n",
       "      <th>3</th>\n",
       "      <td>기타</td>\n",
       "      <td>64144</td>\n",
       "      <td>0.788512</td>\n",
       "    </tr>\n",
       "    <tr>\n",
       "      <th>4</th>\n",
       "      <td>상세설명참조</td>\n",
       "      <td>35795</td>\n",
       "      <td>0.440022</td>\n",
       "    </tr>\n",
       "    <tr>\n",
       "      <th>5</th>\n",
       "      <td>없음</td>\n",
       "      <td>33603</td>\n",
       "      <td>0.413076</td>\n",
       "    </tr>\n",
       "    <tr>\n",
       "      <th>6</th>\n",
       "      <td>아디다스</td>\n",
       "      <td>32292</td>\n",
       "      <td>0.396960</td>\n",
       "    </tr>\n",
       "    <tr>\n",
       "      <th>7</th>\n",
       "      <td>나이키</td>\n",
       "      <td>30785</td>\n",
       "      <td>0.378435</td>\n",
       "    </tr>\n",
       "    <tr>\n",
       "      <th>8</th>\n",
       "      <td>아트박스</td>\n",
       "      <td>28518</td>\n",
       "      <td>0.350567</td>\n",
       "    </tr>\n",
       "    <tr>\n",
       "      <th>9</th>\n",
       "      <td>알수없음</td>\n",
       "      <td>26768</td>\n",
       "      <td>0.329055</td>\n",
       "    </tr>\n",
       "  </tbody>\n",
       "</table>\n",
       "</div>"
      ],
      "text/plain": [
       "       brand    count  percentage\n",
       "0             3930113   48.312243\n",
       "1  상품상세설명 참조   153156    1.882722\n",
       "2       바보사랑    66645    0.819256\n",
       "3         기타    64144    0.788512\n",
       "4     상세설명참조    35795    0.440022\n",
       "5         없음    33603    0.413076\n",
       "6       아디다스    32292    0.396960\n",
       "7        나이키    30785    0.378435\n",
       "8       아트박스    28518    0.350567\n",
       "9       알수없음    26768    0.329055"
      ]
     },
     "execution_count": 9,
     "metadata": {},
     "output_type": "execute_result"
    }
   ],
   "source": [
    "vc_df = get_vc_df(train_df, 'brand')\n",
    "vc_df.head(10)"
   ]
  },
  {
   "cell_type": "markdown",
   "metadata": {},
   "source": [
    "### maker 컬럼 분석"
   ]
  },
  {
   "cell_type": "code",
   "execution_count": 10,
   "metadata": {},
   "outputs": [
    {
     "data": {
      "text/html": [
       "<div>\n",
       "<style scoped>\n",
       "    .dataframe tbody tr th:only-of-type {\n",
       "        vertical-align: middle;\n",
       "    }\n",
       "\n",
       "    .dataframe tbody tr th {\n",
       "        vertical-align: top;\n",
       "    }\n",
       "\n",
       "    .dataframe thead th {\n",
       "        text-align: right;\n",
       "    }\n",
       "</style>\n",
       "<table border=\"1\" class=\"dataframe\">\n",
       "  <thead>\n",
       "    <tr style=\"text-align: right;\">\n",
       "      <th></th>\n",
       "      <th>maker</th>\n",
       "      <th>count</th>\n",
       "      <th>percentage</th>\n",
       "    </tr>\n",
       "  </thead>\n",
       "  <tbody>\n",
       "    <tr>\n",
       "      <th>0</th>\n",
       "      <td></td>\n",
       "      <td>2196846</td>\n",
       "      <td>27.005472</td>\n",
       "    </tr>\n",
       "    <tr>\n",
       "      <th>1</th>\n",
       "      <td>기타</td>\n",
       "      <td>2009828</td>\n",
       "      <td>24.706490</td>\n",
       "    </tr>\n",
       "    <tr>\n",
       "      <th>2</th>\n",
       "      <td>상품상세설명 참조</td>\n",
       "      <td>442299</td>\n",
       "      <td>5.437110</td>\n",
       "    </tr>\n",
       "    <tr>\n",
       "      <th>3</th>\n",
       "      <td>상세페이지 참조</td>\n",
       "      <td>63792</td>\n",
       "      <td>0.784185</td>\n",
       "    </tr>\n",
       "    <tr>\n",
       "      <th>4</th>\n",
       "      <td>상세설명참조</td>\n",
       "      <td>37899</td>\n",
       "      <td>0.465886</td>\n",
       "    </tr>\n",
       "    <tr>\n",
       "      <th>5</th>\n",
       "      <td>상품상세설명참조</td>\n",
       "      <td>36389</td>\n",
       "      <td>0.447324</td>\n",
       "    </tr>\n",
       "    <tr>\n",
       "      <th>6</th>\n",
       "      <td>아디다스</td>\n",
       "      <td>25472</td>\n",
       "      <td>0.313123</td>\n",
       "    </tr>\n",
       "    <tr>\n",
       "      <th>7</th>\n",
       "      <td>상세설명참조 / 상세설명참조</td>\n",
       "      <td>21873</td>\n",
       "      <td>0.268881</td>\n",
       "    </tr>\n",
       "    <tr>\n",
       "      <th>8</th>\n",
       "      <td>[불명]</td>\n",
       "      <td>20836</td>\n",
       "      <td>0.256134</td>\n",
       "    </tr>\n",
       "    <tr>\n",
       "      <th>9</th>\n",
       "      <td>상품상세정보 참조</td>\n",
       "      <td>19786</td>\n",
       "      <td>0.243226</td>\n",
       "    </tr>\n",
       "  </tbody>\n",
       "</table>\n",
       "</div>"
      ],
      "text/plain": [
       "             maker    count  percentage\n",
       "0                   2196846   27.005472\n",
       "1               기타  2009828   24.706490\n",
       "2        상품상세설명 참조   442299    5.437110\n",
       "3         상세페이지 참조    63792    0.784185\n",
       "4           상세설명참조    37899    0.465886\n",
       "5         상품상세설명참조    36389    0.447324\n",
       "6             아디다스    25472    0.313123\n",
       "7  상세설명참조 / 상세설명참조    21873    0.268881\n",
       "8             [불명]    20836    0.256134\n",
       "9        상품상세정보 참조    19786    0.243226"
      ]
     },
     "execution_count": 10,
     "metadata": {},
     "output_type": "execute_result"
    }
   ],
   "source": [
    "vc_df = get_vc_df(train_df, 'maker')\n",
    "vc_df.head(10)"
   ]
  },
  {
   "cell_type": "markdown",
   "metadata": {},
   "source": [
    "### model 컬럼 분석"
   ]
  },
  {
   "cell_type": "code",
   "execution_count": 11,
   "metadata": {},
   "outputs": [],
   "source": [
    "# 메모리 사용량을 줄이기 위해 주석처리\n",
    "#vc_df = get_vc_df(train_df, 'model')\n",
    "#vc_df.head(10)"
   ]
  },
  {
   "cell_type": "markdown",
   "metadata": {},
   "source": [
    "### price"
   ]
  },
  {
   "cell_type": "code",
   "execution_count": 12,
   "metadata": {},
   "outputs": [
    {
     "data": {
      "text/html": [
       "<div>\n",
       "<style scoped>\n",
       "    .dataframe tbody tr th:only-of-type {\n",
       "        vertical-align: middle;\n",
       "    }\n",
       "\n",
       "    .dataframe tbody tr th {\n",
       "        vertical-align: top;\n",
       "    }\n",
       "\n",
       "    .dataframe thead th {\n",
       "        text-align: right;\n",
       "    }\n",
       "</style>\n",
       "<table border=\"1\" class=\"dataframe\">\n",
       "  <thead>\n",
       "    <tr style=\"text-align: right;\">\n",
       "      <th></th>\n",
       "      <th>price</th>\n",
       "      <th>count</th>\n",
       "      <th>percentage</th>\n",
       "    </tr>\n",
       "  </thead>\n",
       "  <tbody>\n",
       "    <tr>\n",
       "      <th>0</th>\n",
       "      <td>-1</td>\n",
       "      <td>5270821</td>\n",
       "      <td>64.793349</td>\n",
       "    </tr>\n",
       "    <tr>\n",
       "      <th>1</th>\n",
       "      <td>85500</td>\n",
       "      <td>8872</td>\n",
       "      <td>0.109062</td>\n",
       "    </tr>\n",
       "    <tr>\n",
       "      <th>2</th>\n",
       "      <td>10800</td>\n",
       "      <td>6522</td>\n",
       "      <td>0.080174</td>\n",
       "    </tr>\n",
       "    <tr>\n",
       "      <th>3</th>\n",
       "      <td>9000</td>\n",
       "      <td>6505</td>\n",
       "      <td>0.079965</td>\n",
       "    </tr>\n",
       "    <tr>\n",
       "      <th>4</th>\n",
       "      <td>13500</td>\n",
       "      <td>5885</td>\n",
       "      <td>0.072343</td>\n",
       "    </tr>\n",
       "    <tr>\n",
       "      <th>5</th>\n",
       "      <td>9900</td>\n",
       "      <td>5792</td>\n",
       "      <td>0.071200</td>\n",
       "    </tr>\n",
       "    <tr>\n",
       "      <th>6</th>\n",
       "      <td>94000</td>\n",
       "      <td>5083</td>\n",
       "      <td>0.062484</td>\n",
       "    </tr>\n",
       "    <tr>\n",
       "      <th>7</th>\n",
       "      <td>18000</td>\n",
       "      <td>4801</td>\n",
       "      <td>0.059018</td>\n",
       "    </tr>\n",
       "    <tr>\n",
       "      <th>8</th>\n",
       "      <td>7200</td>\n",
       "      <td>4698</td>\n",
       "      <td>0.057752</td>\n",
       "    </tr>\n",
       "    <tr>\n",
       "      <th>9</th>\n",
       "      <td>89300</td>\n",
       "      <td>4241</td>\n",
       "      <td>0.052134</td>\n",
       "    </tr>\n",
       "  </tbody>\n",
       "</table>\n",
       "</div>"
      ],
      "text/plain": [
       "   price    count  percentage\n",
       "0     -1  5270821   64.793349\n",
       "1  85500     8872    0.109062\n",
       "2  10800     6522    0.080174\n",
       "3   9000     6505    0.079965\n",
       "4  13500     5885    0.072343\n",
       "5   9900     5792    0.071200\n",
       "6  94000     5083    0.062484\n",
       "7  18000     4801    0.059018\n",
       "8   7200     4698    0.057752\n",
       "9  89300     4241    0.052134"
      ]
     },
     "execution_count": 12,
     "metadata": {},
     "output_type": "execute_result"
    }
   ],
   "source": [
    "vc_df = get_vc_df(train_df, 'price')\n",
    "vc_df.head(10)"
   ]
  },
  {
   "cell_type": "markdown",
   "metadata": {},
   "source": [
    "# 최종 결정된 DataFrame"
   ]
  },
  {
   "cell_type": "code",
   "execution_count": 13,
   "metadata": {},
   "outputs": [],
   "source": [
    "# 불필요한 컬럼을 제거한 DataFrame 생성\n",
    "train_df = train_df[['pid', 'product', 'bcateid', 'mcateid', 'scateid', 'dcateid']]\n",
    "dev_df = dev_df[['pid', 'product', 'bcateid', 'mcateid', 'scateid', 'dcateid']]\n",
    "test_df = test_df[['pid', 'product', 'bcateid', 'mcateid', 'scateid', 'dcateid']]"
   ]
  },
  {
   "cell_type": "code",
   "execution_count": 14,
   "metadata": {
    "scrolled": false
   },
   "outputs": [
    {
     "data": {
      "text/html": [
       "<div>\n",
       "<style scoped>\n",
       "    .dataframe tbody tr th:only-of-type {\n",
       "        vertical-align: middle;\n",
       "    }\n",
       "\n",
       "    .dataframe tbody tr th {\n",
       "        vertical-align: top;\n",
       "    }\n",
       "\n",
       "    .dataframe thead th {\n",
       "        text-align: right;\n",
       "    }\n",
       "</style>\n",
       "<table border=\"1\" class=\"dataframe\">\n",
       "  <thead>\n",
       "    <tr style=\"text-align: right;\">\n",
       "      <th></th>\n",
       "      <th>pid</th>\n",
       "      <th>product</th>\n",
       "      <th>bcateid</th>\n",
       "      <th>mcateid</th>\n",
       "      <th>scateid</th>\n",
       "      <th>dcateid</th>\n",
       "    </tr>\n",
       "  </thead>\n",
       "  <tbody>\n",
       "    <tr>\n",
       "      <th>0</th>\n",
       "      <td>O4486751463</td>\n",
       "      <td>직소퍼즐 - 1000조각 바다거북의 여행 (PL1275)</td>\n",
       "      <td>1</td>\n",
       "      <td>1</td>\n",
       "      <td>2</td>\n",
       "      <td>-1</td>\n",
       "    </tr>\n",
       "    <tr>\n",
       "      <th>1</th>\n",
       "      <td>P3307178849</td>\n",
       "      <td>[모리케이스]아이폰6S/6S+ tree farm101 - 다이어리케이스[바보사랑][무료배송]</td>\n",
       "      <td>3</td>\n",
       "      <td>3</td>\n",
       "      <td>4</td>\n",
       "      <td>-1</td>\n",
       "    </tr>\n",
       "    <tr>\n",
       "      <th>2</th>\n",
       "      <td>R4424255515</td>\n",
       "      <td>크리비아 기모 3부 속바지 GLG4314P</td>\n",
       "      <td>5</td>\n",
       "      <td>5</td>\n",
       "      <td>6</td>\n",
       "      <td>-1</td>\n",
       "    </tr>\n",
       "    <tr>\n",
       "      <th>3</th>\n",
       "      <td>F3334315393</td>\n",
       "      <td>[하프클럽/잭앤질]남성 솔리드 절개라인 포인트 포켓 팬츠 31133PT002_NA</td>\n",
       "      <td>7</td>\n",
       "      <td>7</td>\n",
       "      <td>8</td>\n",
       "      <td>-1</td>\n",
       "    </tr>\n",
       "    <tr>\n",
       "      <th>4</th>\n",
       "      <td>N731678492</td>\n",
       "      <td>코드프리혈당시험지50매/코드프리시험지/최장유효기간</td>\n",
       "      <td>10</td>\n",
       "      <td>9</td>\n",
       "      <td>11</td>\n",
       "      <td>-1</td>\n",
       "    </tr>\n",
       "  </tbody>\n",
       "</table>\n",
       "</div>"
      ],
      "text/plain": [
       "           pid                                              product  bcateid  \\\n",
       "0  O4486751463                      직소퍼즐 - 1000조각 바다거북의 여행 (PL1275)        1   \n",
       "1  P3307178849  [모리케이스]아이폰6S/6S+ tree farm101 - 다이어리케이스[바보사랑][무료배송]        3   \n",
       "2  R4424255515                              크리비아 기모 3부 속바지 GLG4314P        5   \n",
       "3  F3334315393        [하프클럽/잭앤질]남성 솔리드 절개라인 포인트 포켓 팬츠 31133PT002_NA        7   \n",
       "4   N731678492                          코드프리혈당시험지50매/코드프리시험지/최장유효기간       10   \n",
       "\n",
       "   mcateid  scateid  dcateid  \n",
       "0        1        2       -1  \n",
       "1        3        4       -1  \n",
       "2        5        6       -1  \n",
       "3        7        8       -1  \n",
       "4        9       11       -1  "
      ]
     },
     "execution_count": 14,
     "metadata": {},
     "output_type": "execute_result"
    }
   ],
   "source": [
    "train_df.head()"
   ]
  },
  {
   "cell_type": "markdown",
   "metadata": {},
   "source": [
    "# product 칼럼 전처리 하기"
   ]
  },
  {
   "cell_type": "markdown",
   "metadata": {},
   "source": [
    "### 센텐스피스 모델 학습"
   ]
  },
  {
   "cell_type": "code",
   "execution_count": 15,
   "metadata": {},
   "outputs": [
    {
     "name": "stdout",
     "output_type": "stream",
     "text": [
      "CPU times: user 16.7 s, sys: 268 ms, total: 16.9 s\n",
      "Wall time: 16.9 s\n"
     ]
    },
    {
     "data": {
      "text/html": [
       "<div>\n",
       "<style scoped>\n",
       "    .dataframe tbody tr th:only-of-type {\n",
       "        vertical-align: middle;\n",
       "    }\n",
       "\n",
       "    .dataframe tbody tr th {\n",
       "        vertical-align: top;\n",
       "    }\n",
       "\n",
       "    .dataframe thead th {\n",
       "        text-align: right;\n",
       "    }\n",
       "</style>\n",
       "<table border=\"1\" class=\"dataframe\">\n",
       "  <thead>\n",
       "    <tr style=\"text-align: right;\">\n",
       "      <th></th>\n",
       "      <th>pid</th>\n",
       "      <th>product</th>\n",
       "      <th>bcateid</th>\n",
       "      <th>mcateid</th>\n",
       "      <th>scateid</th>\n",
       "      <th>dcateid</th>\n",
       "    </tr>\n",
       "  </thead>\n",
       "  <tbody>\n",
       "    <tr>\n",
       "      <th>0</th>\n",
       "      <td>O4486751463</td>\n",
       "      <td>직소퍼즐 1000조각 바다거북의 여행 pl1275</td>\n",
       "      <td>1</td>\n",
       "      <td>1</td>\n",
       "      <td>2</td>\n",
       "      <td>-1</td>\n",
       "    </tr>\n",
       "    <tr>\n",
       "      <th>1</th>\n",
       "      <td>P3307178849</td>\n",
       "      <td>모리케이스 아이폰6s 6s tree farm101 다이어리케이스 바보사랑 무료배송</td>\n",
       "      <td>3</td>\n",
       "      <td>3</td>\n",
       "      <td>4</td>\n",
       "      <td>-1</td>\n",
       "    </tr>\n",
       "    <tr>\n",
       "      <th>2</th>\n",
       "      <td>R4424255515</td>\n",
       "      <td>크리비아 기모 3부 속바지 glg4314p</td>\n",
       "      <td>5</td>\n",
       "      <td>5</td>\n",
       "      <td>6</td>\n",
       "      <td>-1</td>\n",
       "    </tr>\n",
       "    <tr>\n",
       "      <th>3</th>\n",
       "      <td>F3334315393</td>\n",
       "      <td>하프클럽 잭앤질 남성 솔리드 절개라인 포인트 포켓 팬츠 31133pt002 na</td>\n",
       "      <td>7</td>\n",
       "      <td>7</td>\n",
       "      <td>8</td>\n",
       "      <td>-1</td>\n",
       "    </tr>\n",
       "    <tr>\n",
       "      <th>4</th>\n",
       "      <td>N731678492</td>\n",
       "      <td>코드프리혈당시험지50매 코드프리시험지 최장유효기간</td>\n",
       "      <td>10</td>\n",
       "      <td>9</td>\n",
       "      <td>11</td>\n",
       "      <td>-1</td>\n",
       "    </tr>\n",
       "  </tbody>\n",
       "</table>\n",
       "</div>"
      ],
      "text/plain": [
       "           pid                                        product  bcateid  \\\n",
       "0  O4486751463                    직소퍼즐 1000조각 바다거북의 여행 pl1275        1   \n",
       "1  P3307178849  모리케이스 아이폰6s 6s tree farm101 다이어리케이스 바보사랑 무료배송        3   \n",
       "2  R4424255515                        크리비아 기모 3부 속바지 glg4314p        5   \n",
       "3  F3334315393   하프클럽 잭앤질 남성 솔리드 절개라인 포인트 포켓 팬츠 31133pt002 na        7   \n",
       "4   N731678492                    코드프리혈당시험지50매 코드프리시험지 최장유효기간       10   \n",
       "\n",
       "   mcateid  scateid  dcateid  \n",
       "0        1        2       -1  \n",
       "1        3        4       -1  \n",
       "2        5        6       -1  \n",
       "3        7        8       -1  \n",
       "4        9       11       -1  "
      ]
     },
     "execution_count": 15,
     "metadata": {},
     "output_type": "execute_result"
    }
   ],
   "source": [
    "%%time\n",
    "import re\n",
    "\n",
    "# 특수기호를 나열한 패턴 문자열을 컴파일하여 패턴 객체를 얻는다.\n",
    "p = re.compile('[\\!@#$%\\^&\\*\\(\\)\\-\\=\\[\\]\\{\\}\\.,/\\?~\\+\\'\"|_:;><`┃]')\n",
    "\n",
    "# 위의 패턴 문자열의 매칭되는 문자는 아래 코드를 통해서 빈공백으로 치환할 것이다.\n",
    "\n",
    "# 문장의 특수기호 제거 함수\n",
    "def remove_special_characters(sentence, lower=True):\n",
    "    sentence = p.sub(' ', sentence) # 패턴 객체로 sentence 내의 특수기호를 공백문자로 치환한다.\n",
    "    sentence = ' '.join(sentence.split()) # sentence 내의 두개 이상 연속된 빈공백들을 하나의 빈공백으로 만든다.\n",
    "    if lower:\n",
    "        sentence = sentence.lower()\n",
    "    return sentence\n",
    "\n",
    "# product 칼럼에 특수기호를 제거하는 함수를 적용한 결과를 반환한다.\n",
    "train_df['product'] = train_df['product'].map(remove_special_characters)\n",
    "\n",
    "train_df.head() # 특수기호가 제거된 train_df의 상단 5행만 출력"
   ]
  },
  {
   "cell_type": "code",
   "execution_count": 16,
   "metadata": {},
   "outputs": [
    {
     "name": "stdout",
     "output_type": "stream",
     "text": [
      "../input/processed/vocab/spm.vocab\n",
      "../input/processed/vocab/spm.model\n",
      "CPU times: user 2min 29s, sys: 1.72 s, total: 2min 30s\n",
      "Wall time: 2min 27s\n"
     ]
    }
   ],
   "source": []
  },
  {
   "cell_type": "code",
   "execution_count": null,
   "outputs": [],
   "source": [
    "%%time\n",
    "import sentencepiece as spm # sentencepiece 모듈을 가져온다.\n",
    "\n",
    "# product 칼럼의 상품명을 product.txt 파일명으로 저장한다.\n",
    "with open(os.path.join(VOCAB_DIR, 'product.txt'), 'w', encoding='utf-8') as f:\n",
    "    f.write(train_df['product'].str.cat(sep='\\n'))\n",
    "\n",
    "# sentencepiece 모델을 학습시키는 함수이다.\n",
    "def train_spm(txt_path, spm_path,\n",
    "              vocab_size=32000, input_sentence_size=1000000):  \n",
    "    # input_sentence_size: 개수 만큼만 학습데이터로 사용된다.\n",
    "    # vocab_size: 사전 크기\n",
    "    spm.SentencePieceTrainer.Train(\n",
    "        f' --input={txt_path} --model_type=bpe'\n",
    "        f' --model_prefix={spm_path} --vocab_size={vocab_size}'\n",
    "        f' --input_sentence_size={input_sentence_size}'\n",
    "        f' --shuffle_input_sentence=true'\n",
    "    )\n",
    "\n",
    "# product.txt 파일로 sentencepiece 모델을 학습 시킨다. \n",
    "# 학습이 완료되면 spm.model, spm.vocab 파일이 생성된다.\n",
    "train_spm(txt_path=os.path.join(VOCAB_DIR, 'product.txt'), \n",
    "          spm_path=os.path.join(VOCAB_DIR, 'spm')) # spm 접두어\n",
    "\n",
    "# 센텐스피스 모델 학습이 완료되면 product.txt는 삭제\n",
    "os.remove(os.path.join(VOCAB_DIR, 'product.txt'))\n",
    "\n",
    "# 필요한 파일이 제대로 생성됐는지 확인\n",
    "for dirname, _, filenames in os.walk(VOCAB_DIR):\n",
    "    for filename in filenames:\n",
    "        print(os.path.join(dirname, filename))"
   ],
   "metadata": {
    "collapsed": false,
    "pycharm": {
     "name": "#%%\n"
    }
   }
  },
  {
   "cell_type": "markdown",
   "metadata": {},
   "source": [
    "### train_df 전처리"
   ]
  },
  {
   "cell_type": "code",
   "execution_count": 17,
   "metadata": {},
   "outputs": [
    {
     "data": {
      "text/html": [
       "<div>\n",
       "<style scoped>\n",
       "    .dataframe tbody tr th:only-of-type {\n",
       "        vertical-align: middle;\n",
       "    }\n",
       "\n",
       "    .dataframe tbody tr th {\n",
       "        vertical-align: top;\n",
       "    }\n",
       "\n",
       "    .dataframe thead th {\n",
       "        text-align: right;\n",
       "    }\n",
       "</style>\n",
       "<table border=\"1\" class=\"dataframe\">\n",
       "  <thead>\n",
       "    <tr style=\"text-align: right;\">\n",
       "      <th></th>\n",
       "      <th>product</th>\n",
       "      <th>tokens</th>\n",
       "    </tr>\n",
       "  </thead>\n",
       "  <tbody>\n",
       "    <tr>\n",
       "      <th>0</th>\n",
       "      <td>직소퍼즐 1000조각 바다거북의 여행 pl1275</td>\n",
       "      <td>▁직소퍼즐 ▁1000 조각 ▁바다 거북 의 ▁여행 ▁pl 12 75</td>\n",
       "    </tr>\n",
       "    <tr>\n",
       "      <th>1</th>\n",
       "      <td>모리케이스 아이폰6s 6s tree farm101 다이어리케이스 바보사랑 무료배송</td>\n",
       "      <td>▁모리케이스 ▁아이폰 6 s ▁6 s ▁tree ▁farm 101 ▁다이어리케이스 ▁바보사랑 ▁무료배송</td>\n",
       "    </tr>\n",
       "    <tr>\n",
       "      <th>2</th>\n",
       "      <td>크리비아 기모 3부 속바지 glg4314p</td>\n",
       "      <td>▁크리비아 ▁기모 ▁3 부 ▁속바지 ▁gl g 43 14 p</td>\n",
       "    </tr>\n",
       "    <tr>\n",
       "      <th>3</th>\n",
       "      <td>하프클럽 잭앤질 남성 솔리드 절개라인 포인트 포켓 팬츠 31133pt002 na</td>\n",
       "      <td>▁하프클럽 ▁잭앤질 ▁남성 ▁솔리드 ▁절개라인 ▁포인트 ▁포켓 ▁팬츠 ▁311 33 pt 002 ▁na</td>\n",
       "    </tr>\n",
       "    <tr>\n",
       "      <th>4</th>\n",
       "      <td>코드프리혈당시험지50매 코드프리시험지 최장유효기간</td>\n",
       "      <td>▁코드 프리 혈 당 시험 지 50 매 ▁코드 프리 시험 지 ▁최 장 유 효 기간</td>\n",
       "    </tr>\n",
       "  </tbody>\n",
       "</table>\n",
       "</div>"
      ],
      "text/plain": [
       "                                         product  \\\n",
       "0                    직소퍼즐 1000조각 바다거북의 여행 pl1275   \n",
       "1  모리케이스 아이폰6s 6s tree farm101 다이어리케이스 바보사랑 무료배송   \n",
       "2                        크리비아 기모 3부 속바지 glg4314p   \n",
       "3   하프클럽 잭앤질 남성 솔리드 절개라인 포인트 포켓 팬츠 31133pt002 na   \n",
       "4                    코드프리혈당시험지50매 코드프리시험지 최장유효기간   \n",
       "\n",
       "                                                      tokens  \n",
       "0                      ▁직소퍼즐 ▁1000 조각 ▁바다 거북 의 ▁여행 ▁pl 12 75  \n",
       "1  ▁모리케이스 ▁아이폰 6 s ▁6 s ▁tree ▁farm 101 ▁다이어리케이스 ▁바보사랑 ▁무료배송  \n",
       "2                          ▁크리비아 ▁기모 ▁3 부 ▁속바지 ▁gl g 43 14 p  \n",
       "3  ▁하프클럽 ▁잭앤질 ▁남성 ▁솔리드 ▁절개라인 ▁포인트 ▁포켓 ▁팬츠 ▁311 33 pt 002 ▁na  \n",
       "4               ▁코드 프리 혈 당 시험 지 50 매 ▁코드 프리 시험 지 ▁최 장 유 효 기간  "
      ]
     },
     "execution_count": 17,
     "metadata": {},
     "output_type": "execute_result"
    }
   ],
   "source": [
    "# 센텐스피스 모델을 로드한다.\n",
    "sp = spm.SentencePieceProcessor()\n",
    "sp.Load(os.path.join(VOCAB_DIR, 'spm.model'))\n",
    "\n",
    "# product 칼럼의 상품명을 분절한 결과를 tokenized_product 칼럼에 저장한다.\n",
    "train_df['tokens'] = train_df['product'].map(lambda x: \" \".join(sp.EncodeAsPieces(x)) )\n",
    "\n",
    "train_df[['product', 'tokens']].head()"
   ]
  },
  {
   "cell_type": "markdown",
   "metadata": {},
   "source": [
    "###  dev_df, test_df 전처리"
   ]
  },
  {
   "cell_type": "code",
   "execution_count": 18,
   "metadata": {},
   "outputs": [],
   "source": [
    "# 특수기호를 공백문자로 치환\n",
    "dev_df['product'] = dev_df['product'].map(remove_special_characters) \n",
    "# product 칼럼을 분절한 뒤 token_id로 치환\n",
    "dev_df['tokens'] = dev_df['product'].map(lambda x: \" \".join([str(token_id) for token_id in sp.EncodeAsPieces(x)]))\n",
    "\n",
    "# 특수기호를 공백문자로 치환\n",
    "test_df['product'] = test_df['product'].map(remove_special_characters) \n",
    "# product 칼럼을 분절한 뒤 token_id로 치환\n",
    "test_df['tokens'] = test_df['product'].map(lambda x: \" \".join([str(token_id) for token_id in sp.EncodeAsPieces(x)]))"
   ]
  },
  {
   "cell_type": "markdown",
   "metadata": {},
   "source": [
    "# 전처리된 대회 데이터를 파일로 저장한다."
   ]
  },
  {
   "cell_type": "markdown",
   "metadata": {},
   "source": [
    "### 전처리가 완료된 train_df, dev_df, test_df를 파일로 저장한다."
   ]
  },
  {
   "cell_type": "code",
   "execution_count": 19,
   "metadata": {},
   "outputs": [],
   "source": [
    "# product, tokenized_product 칼럼을 제외한 칼럼만을 남긴다.\n",
    "columns = ['pid', 'tokens',  'bcateid', 'mcateid', 'scateid', 'dcateid']\n",
    "train_df = train_df[columns] \n",
    "dev_df = dev_df[columns] \n",
    "test_df = test_df[columns] \n",
    "\n",
    "# csv 포맷으로 저장한다.\n",
    "train_df.to_csv(os.path.join(PROCESSED_DATA_DIR, 'train.csv'), index=False) \n",
    "dev_df.to_csv(os.path.join(PROCESSED_DATA_DIR, 'dev.csv'), index=False) \n",
    "test_df.to_csv(os.path.join(PROCESSED_DATA_DIR, 'test.csv'), index=False) "
   ]
  },
  {
   "cell_type": "markdown",
   "metadata": {},
   "source": [
    "### 용량이 큰 img_feat 컬럼은 별도의 hdf5 포맷의 파일로 저장"
   ]
  },
  {
   "cell_type": "code",
   "execution_count": 20,
   "metadata": {
    "scrolled": true
   },
   "outputs": [
    {
     "data": {
      "application/vnd.jupyter.widget-view+json": {
       "model_id": "3e63c37d29d24bb1832da53300c98197",
       "version_major": 2,
       "version_minor": 0
      },
      "text/plain": [
       "HBox(children=(FloatProgress(value=0.0, description='train,img_feat', max=9.0, style=ProgressStyle(description…"
      ]
     },
     "metadata": {},
     "output_type": "display_data"
    },
    {
     "name": "stdout",
     "output_type": "stream",
     "text": [
      "\n"
     ]
    },
    {
     "data": {
      "application/vnd.jupyter.widget-view+json": {
       "model_id": "584bdeba62d74394aa2fa189e03fc0cc",
       "version_major": 2,
       "version_minor": 0
      },
      "text/plain": [
       "HBox(children=(FloatProgress(value=0.0, description='dev,img_feat', max=1.0, style=ProgressStyle(description_w…"
      ]
     },
     "metadata": {},
     "output_type": "display_data"
    },
    {
     "name": "stdout",
     "output_type": "stream",
     "text": [
      "\n"
     ]
    },
    {
     "data": {
      "application/vnd.jupyter.widget-view+json": {
       "model_id": "0cb50081b8c84d45b5b47a7d78d12f92",
       "version_major": 2,
       "version_minor": 0
      },
      "text/plain": [
       "HBox(children=(FloatProgress(value=0.0, description='test,img_feat', max=2.0, style=ProgressStyle(description_…"
      ]
     },
     "metadata": {},
     "output_type": "display_data"
    },
    {
     "name": "stdout",
     "output_type": "stream",
     "text": [
      "\n",
      "../input/processed/dev_img_feat.h5\n",
      "../input/processed/train_img_feat.h5\n",
      "../input/processed/test_img_feat.h5\n",
      "../input/processed/dev.csv\n",
      "../input/processed/train.csv\n",
      "../input/processed/test.csv\n",
      "../input/processed/vocab/spm.vocab\n",
      "../input/processed/vocab/spm.model\n"
     ]
    }
   ],
   "source": [
    "# image_feature는 데이터의 크기가 크므로 처리함수를 별도로 분리하였다.\n",
    "def save_column_data(input_path_list, div, col, n_img_rows, output_path):\n",
    "    # img_feat를 저장할 h5 파일을 생성\n",
    "    h_out = h5py.File(output_path, 'w')    \n",
    "    # 대회데이터의 상품개수 x 2048(img_feat 크기)로 dataset을 할당한다.\n",
    "    h_out.create_dataset(col, (n_img_rows, 2048), dtype=np.float32)\n",
    "    \n",
    "    offset_out = 0\n",
    "    \n",
    "    # h5포맷의 대회데이터에서 img_feat 칼럼만 읽어서 h5포맷으로 다시 저장한다.\n",
    "    for in_path in tqdm(input_path_list, desc=f'{div},{col}'):\n",
    "        h_in = h5py.File(in_path, 'r')\n",
    "        sz = h_in[div][col].shape[0]\n",
    "        h_out[col][offset_out:offset_out+sz] = h_in[div][col][:]\n",
    "        offset_out += sz\n",
    "        h_in.close()\n",
    "    h_out.close()\n",
    "\n",
    "\n",
    "save_column_data(train_path_list, div='train', col='img_feat', n_img_rows=len(train_df), \n",
    "                 output_path=os.path.join(PROCESSED_DATA_DIR, 'train_img_feat.h5'))\n",
    "save_column_data(dev_path_list, div='dev', col='img_feat', n_img_rows=len(dev_df), \n",
    "                 output_path=os.path.join(PROCESSED_DATA_DIR, 'dev_img_feat.h5'))\n",
    "save_column_data(test_path_list, div='test', col='img_feat', n_img_rows=len(test_df), \n",
    "                 output_path=os.path.join(PROCESSED_DATA_DIR, 'test_img_feat.h5'))\n",
    "\n",
    "# 파일이 제대로 생성됐는지 확인\n",
    "for dirname, _, filenames in os.walk(PROCESSED_DATA_DIR):\n",
    "    for filename in filenames:\n",
    "        print(os.path.join(dirname, filename))"
   ]
  },
  {
   "cell_type": "code",
   "execution_count": null,
   "outputs": [],
   "source": [],
   "metadata": {
    "collapsed": false,
    "pycharm": {
     "name": "#%%\n"
    }
   }
  }
 ],
 "metadata": {
  "kernelspec": {
   "display_name": "Python 3",
   "language": "python",
   "name": "python3"
  },
  "language_info": {
   "codemirror_mode": {
    "name": "ipython",
    "version": 3
   },
   "file_extension": ".py",
   "mimetype": "text/x-python",
   "name": "python",
   "nbconvert_exporter": "python",
   "pygments_lexer": "ipython3",
   "version": "3.7.7"
  }
 },
 "nbformat": 4,
 "nbformat_minor": 4
}